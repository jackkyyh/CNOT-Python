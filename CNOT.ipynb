{
 "cells": [
  {
   "cell_type": "code",
   "execution_count": 1,
   "metadata": {},
   "outputs": [],
   "source": [
    "%reload_ext autoreload\n",
    "%autoreload 2\n",
    "\n",
    "from algorithms import *\n",
    "from utils import *\n",
    "from graph import *"
   ]
  },
  {
   "cell_type": "code",
   "execution_count": 2,
   "metadata": {},
   "outputs": [],
   "source": [
    "import networkx as nx\n",
    "import matplotlib.pyplot as plt"
   ]
  },
  {
   "cell_type": "code",
   "execution_count": 9,
   "metadata": {},
   "outputs": [
    {
     "name": "stdout",
     "output_type": "stream",
     "text": [
      "Graph with 5 nodes and 4 edges\n"
     ]
    }
   ],
   "source": [
    "G = get_layout_graph('6.txt')\n",
    "G.remove_node(0)\n",
    "terminals = [1,3,5]\n",
    "st = nx.algorithms.approximation.steinertree.steiner_tree(G, terminals)\n",
    "steiner = G.subgraph(st.nodes)"
   ]
  },
  {
   "cell_type": "code",
   "execution_count": 10,
   "metadata": {},
   "outputs": [
    {
     "data": {
      "image/png": "[encoded data removed]",
      "text/plain": [
       "<Figure size 432x288 with 1 Axes>"
      ]
     },
     "metadata": {},
     "output_type": "display_data"
    }
   ],
   "source": [
    "draw(st)"
   ]
  },
  {
   "cell_type": "code",
   "execution_count": 3,
   "metadata": {},
   "outputs": [
    {
     "name": "stdout",
     "output_type": "stream",
     "text": [
      "[[1 0 0 0 0 0]\n",
      " [0 0 0 1 0 1]\n",
      " [0 0 1 0 0 0]\n",
      " [0 1 0 1 0 1]\n",
      " [0 0 0 0 1 0]\n",
      " [0 1 0 0 0 1]]\n"
     ]
    }
   ],
   "source": [
    "# generate_random_circuit(6, 20)\n",
    "in_circ = parse_circ_qasm('rand.txt')\n",
    "A_init = build_parity_mtx(in_circ)\n",
    "print(A_init)"
   ]
  },
  {
   "cell_type": "code",
   "execution_count": 8,
   "metadata": {},
   "outputs": [
    {
     "name": "stdout",
     "output_type": "stream",
     "text": [
      "finished upper 0\n",
      "[[1 0 0 0 0 0]\n",
      " [0 0 0 1 0 1]\n",
      " [0 0 1 0 0 0]\n",
      " [0 1 0 1 0 1]\n",
      " [0 0 0 0 1 0]\n",
      " [0 1 0 0 0 1]]\n",
      "fix diag 1\n",
      "[[1 0 0 0 0 0]\n",
      " [0 1 0 1 0 0]\n",
      " [0 0 1 0 0 0]\n",
      " [0 1 0 1 0 1]\n",
      " [0 0 0 0 1 0]\n",
      " [0 1 0 0 0 1]]\n",
      "T: [(5, 4), (4, 3)]\n",
      "[(5, 4), (4, 3), (5, 4)]\n",
      "T: [(5, 2)]\n",
      "[(5, 2)]\n",
      "T: [(1, 2), (1, 4), (2, 5), (5, 4), (4, 3)]\n",
      "[(1, 2), (1, 4), (2, 5), (4, 3), (1, 2), (1, 4)]\n",
      "finished upper 1\n",
      "[[1 0 0 0 0 0]\n",
      " [0 1 0 1 0 0]\n",
      " [0 1 1 0 0 1]\n",
      " [0 1 0 0 0 0]\n",
      " [0 0 0 0 1 0]\n",
      " [0 1 1 1 0 0]]\n",
      "[[1 0 0 0 0 0]\n",
      " [0 1 0 1 0 0]\n",
      " [0 1 1 0 0 1]\n",
      " [0 1 0 0 0 0]\n",
      " [0 0 0 0 1 0]\n",
      " [0 1 1 1 0 0]]\n",
      "T: [(2, 5)]\n",
      "[(2, 5)]\n",
      "finished upper 2\n",
      "[[1 0 0 0 0 0]\n",
      " [0 1 0 1 0 0]\n",
      " [0 1 1 0 0 1]\n",
      " [0 1 0 0 0 0]\n",
      " [0 0 0 0 1 0]\n",
      " [0 0 0 1 0 1]]\n",
      "fix diag 3\n",
      "[[1 0 0 0 0 0]\n",
      " [0 1 0 1 0 0]\n",
      " [0 1 1 0 0 1]\n",
      " [0 1 0 1 0 1]\n",
      " [0 0 0 0 1 0]\n",
      " [0 0 0 1 0 1]]\n",
      "T: [(3, 4), (4, 5)]\n",
      "[(3, 4), (4, 5), (3, 4)]\n",
      "finished upper 3\n",
      "[[1 0 0 0 0 0]\n",
      " [0 1 0 1 0 0]\n",
      " [0 1 1 0 0 1]\n",
      " [0 1 0 1 0 1]\n",
      " [0 0 0 0 1 0]\n",
      " [0 1 0 0 1 0]]\n",
      "[[1 0 0 0 0 0]\n",
      " [0 1 0 1 0 0]\n",
      " [0 1 1 0 0 1]\n",
      " [0 1 0 1 0 1]\n",
      " [0 0 0 0 1 0]\n",
      " [0 1 0 0 1 0]]\n",
      "T: [(4, 5)]\n",
      "[(4, 5)]\n",
      "finished upper 4\n",
      "[[1 0 0 0 0 0]\n",
      " [0 1 0 1 0 0]\n",
      " [0 1 1 0 0 1]\n",
      " [0 1 0 1 0 1]\n",
      " [0 0 0 0 1 0]\n",
      " [0 1 0 0 0 0]]\n",
      "fix diag 5\n"
     ]
    },
    {
     "ename": "NetworkXError",
     "evalue": "The node 5 is not in the graph.",
     "output_type": "error",
     "traceback": [
      "\u001b[1;31m---------------------------------------------------------------------------\u001b[0m",
      "\u001b[1;31mKeyError\u001b[0m                                  Traceback (most recent call last)",
      "File \u001b[1;32m~\\AppData\\Local\\Packages\\PythonSoftwareFoundation.Python.3.10_qbz5n2kfra8p0\\LocalCache\\local-packages\\Python310\\site-packages\\networkx\\classes\\graph.py:1252\u001b[0m, in \u001b[0;36mGraph.neighbors\u001b[1;34m(self, n)\u001b[0m\n\u001b[0;32m   1251\u001b[0m \u001b[39mtry\u001b[39;00m:\n\u001b[1;32m-> 1252\u001b[0m     \u001b[39mreturn\u001b[39;00m \u001b[39miter\u001b[39m(\u001b[39mself\u001b[39;49m\u001b[39m.\u001b[39;49m_adj[n])\n\u001b[0;32m   1253\u001b[0m \u001b[39mexcept\u001b[39;00m \u001b[39mKeyError\u001b[39;00m \u001b[39mas\u001b[39;00m err:\n",
      "File \u001b[1;32m~\\AppData\\Local\\Packages\\PythonSoftwareFoundation.Python.3.10_qbz5n2kfra8p0\\LocalCache\\local-packages\\Python310\\site-packages\\networkx\\classes\\coreviews.py:340\u001b[0m, in \u001b[0;36mFilterAdjacency.__getitem__\u001b[1;34m(self, node)\u001b[0m\n\u001b[0;32m    339\u001b[0m     \u001b[39mreturn\u001b[39;00m FilterAtlas(\u001b[39mself\u001b[39m\u001b[39m.\u001b[39m_atlas[node], new_node_ok)\n\u001b[1;32m--> 340\u001b[0m \u001b[39mraise\u001b[39;00m \u001b[39mKeyError\u001b[39;00m(\u001b[39mf\u001b[39m\u001b[39m\"\u001b[39m\u001b[39mKey \u001b[39m\u001b[39m{\u001b[39;00mnode\u001b[39m}\u001b[39;00m\u001b[39m not found\u001b[39m\u001b[39m\"\u001b[39m)\n",
      "\u001b[1;31mKeyError\u001b[0m: 'Key 5 not found'",
      "\nThe above exception was the direct cause of the following exception:\n",
      "\u001b[1;31mNetworkXError\u001b[0m                             Traceback (most recent call last)",
      "\u001b[1;32mc:\\Users\\Jacky\\Documents\\cnot\\cnotsynth-Python\\CNOT.ipynb Cell 5\u001b[0m in \u001b[0;36m<cell line: 2>\u001b[1;34m()\u001b[0m\n\u001b[0;32m      <a href='vscode-notebook-cell:/c%3A/Users/Jacky/Documents/cnot/cnotsynth-Python/CNOT.ipynb#ch0000004?line=0'>1</a>\u001b[0m A \u001b[39m=\u001b[39m A_init\u001b[39m.\u001b[39mcopy()\n\u001b[1;32m----> <a href='vscode-notebook-cell:/c%3A/Users/Jacky/Documents/cnot/cnotsynth-Python/CNOT.ipynb#ch0000004?line=1'>2</a>\u001b[0m Y1 \u001b[39m=\u001b[39m fix_upper(A, G\u001b[39m.\u001b[39;49mcopy())\n\u001b[0;32m      <a href='vscode-notebook-cell:/c%3A/Users/Jacky/Documents/cnot/cnotsynth-Python/CNOT.ipynb#ch0000004?line=3'>4</a>\u001b[0m A \u001b[39m=\u001b[39m A\u001b[39m.\u001b[39mtranspose()\n\u001b[0;32m      <a href='vscode-notebook-cell:/c%3A/Users/Jacky/Documents/cnot/cnotsynth-Python/CNOT.ipynb#ch0000004?line=4'>5</a>\u001b[0m \u001b[39mprint\u001b[39m(A)\n",
      "File \u001b[1;32mc:\\Users\\Jacky\\Documents\\cnot\\cnotsynth-Python\\algorithms.py:24\u001b[0m, in \u001b[0;36mfix_upper\u001b[1;34m(A, G)\u001b[0m\n\u001b[0;32m     22\u001b[0m \u001b[39mfor\u001b[39;00m idx \u001b[39min\u001b[39;00m \u001b[39mrange\u001b[39m(\u001b[39mlen\u001b[39m(A)):\n\u001b[0;32m     23\u001b[0m     \u001b[39mif\u001b[39;00m(A[idx, idx] \u001b[39m==\u001b[39m \u001b[39m0\u001b[39m):\n\u001b[1;32m---> 24\u001b[0m         Y \u001b[39m+\u001b[39m\u001b[39m=\u001b[39m fix_diag(A, idx, G)\n\u001b[0;32m     26\u001b[0m     terminals \u001b[39m=\u001b[39m np\u001b[39m.\u001b[39mwhere(A[idx:, idx] \u001b[39m==\u001b[39m \u001b[39m1\u001b[39m)[\u001b[39m0\u001b[39m] \u001b[39m+\u001b[39m idx\n\u001b[0;32m     27\u001b[0m     \u001b[39m# print(terminals)\u001b[39;00m\n",
      "File \u001b[1;32mc:\\Users\\Jacky\\Documents\\cnot\\cnotsynth-Python\\algorithms.py:14\u001b[0m, in \u001b[0;36mfix_diag\u001b[1;34m(A, idx, G)\u001b[0m\n\u001b[0;32m     12\u001b[0m terminals \u001b[39m=\u001b[39m np\u001b[39m.\u001b[39mappend(v, idx)\n\u001b[0;32m     13\u001b[0m steiner \u001b[39m=\u001b[39m get_steiner_tree(G, terminals)\n\u001b[1;32m---> 14\u001b[0m \u001b[39mfor\u001b[39;00m b_it \u001b[39min\u001b[39;00m nx\u001b[39m.\u001b[39mbfs_successors(steiner, idx):\n\u001b[0;32m     15\u001b[0m     \u001b[39mfor\u001b[39;00m neib \u001b[39min\u001b[39;00m b_it[\u001b[39m1\u001b[39m]:\n\u001b[0;32m     16\u001b[0m         \u001b[39mif\u001b[39;00m(neib \u001b[39min\u001b[39;00m v) :\n",
      "File \u001b[1;32m~\\AppData\\Local\\Packages\\PythonSoftwareFoundation.Python.3.10_qbz5n2kfra8p0\\LocalCache\\local-packages\\Python310\\site-packages\\networkx\\algorithms\\traversal\\breadth_first_search.py:361\u001b[0m, in \u001b[0;36mbfs_successors\u001b[1;34m(G, source, depth_limit, sort_neighbors)\u001b[0m\n\u001b[0;32m    359\u001b[0m parent \u001b[39m=\u001b[39m source\n\u001b[0;32m    360\u001b[0m children \u001b[39m=\u001b[39m []\n\u001b[1;32m--> 361\u001b[0m \u001b[39mfor\u001b[39;00m p, c \u001b[39min\u001b[39;00m bfs_edges(\n\u001b[0;32m    362\u001b[0m     G, source, depth_limit\u001b[39m=\u001b[39mdepth_limit, sort_neighbors\u001b[39m=\u001b[39msort_neighbors\n\u001b[0;32m    363\u001b[0m ):\n\u001b[0;32m    364\u001b[0m     \u001b[39mif\u001b[39;00m p \u001b[39m==\u001b[39m parent:\n\u001b[0;32m    365\u001b[0m         children\u001b[39m.\u001b[39mappend(c)\n",
      "File \u001b[1;32m~\\AppData\\Local\\Packages\\PythonSoftwareFoundation.Python.3.10_qbz5n2kfra8p0\\LocalCache\\local-packages\\Python310\\site-packages\\networkx\\algorithms\\traversal\\breadth_first_search.py:168\u001b[0m, in \u001b[0;36mbfs_edges\u001b[1;34m(G, source, reverse, depth_limit, sort_neighbors)\u001b[0m\n\u001b[0;32m    166\u001b[0m \u001b[39melse\u001b[39;00m:\n\u001b[0;32m    167\u001b[0m     successors \u001b[39m=\u001b[39m G\u001b[39m.\u001b[39mneighbors\n\u001b[1;32m--> 168\u001b[0m \u001b[39myield from\u001b[39;00m generic_bfs_edges(G, source, successors, depth_limit, sort_neighbors)\n",
      "File \u001b[1;32m~\\AppData\\Local\\Packages\\PythonSoftwareFoundation.Python.3.10_qbz5n2kfra8p0\\LocalCache\\local-packages\\Python310\\site-packages\\networkx\\algorithms\\traversal\\breadth_first_search.py:76\u001b[0m, in \u001b[0;36mgeneric_bfs_edges\u001b[1;34m(G, source, neighbors, depth_limit, sort_neighbors)\u001b[0m\n\u001b[0;32m     74\u001b[0m \u001b[39mif\u001b[39;00m depth_limit \u001b[39mis\u001b[39;00m \u001b[39mNone\u001b[39;00m:\n\u001b[0;32m     75\u001b[0m     depth_limit \u001b[39m=\u001b[39m \u001b[39mlen\u001b[39m(G)\n\u001b[1;32m---> 76\u001b[0m queue \u001b[39m=\u001b[39m deque([(source, depth_limit, neighbors(source))])\n\u001b[0;32m     77\u001b[0m \u001b[39mwhile\u001b[39;00m queue:\n\u001b[0;32m     78\u001b[0m     parent, depth_now, children \u001b[39m=\u001b[39m queue[\u001b[39m0\u001b[39m]\n",
      "File \u001b[1;32m~\\AppData\\Local\\Packages\\PythonSoftwareFoundation.Python.3.10_qbz5n2kfra8p0\\LocalCache\\local-packages\\Python310\\site-packages\\networkx\\classes\\graph.py:1254\u001b[0m, in \u001b[0;36mGraph.neighbors\u001b[1;34m(self, n)\u001b[0m\n\u001b[0;32m   1252\u001b[0m     \u001b[39mreturn\u001b[39;00m \u001b[39miter\u001b[39m(\u001b[39mself\u001b[39m\u001b[39m.\u001b[39m_adj[n])\n\u001b[0;32m   1253\u001b[0m \u001b[39mexcept\u001b[39;00m \u001b[39mKeyError\u001b[39;00m \u001b[39mas\u001b[39;00m err:\n\u001b[1;32m-> 1254\u001b[0m     \u001b[39mraise\u001b[39;00m NetworkXError(\u001b[39mf\u001b[39m\u001b[39m\"\u001b[39m\u001b[39mThe node \u001b[39m\u001b[39m{\u001b[39;00mn\u001b[39m}\u001b[39;00m\u001b[39m is not in the graph.\u001b[39m\u001b[39m\"\u001b[39m) \u001b[39mfrom\u001b[39;00m \u001b[39merr\u001b[39;00m\n",
      "\u001b[1;31mNetworkXError\u001b[0m: The node 5 is not in the graph."
     ]
    }
   ],
   "source": [
    "A = A_init.copy()\n",
    "Y1 = fix_upper(A, G.copy())\n",
    "\n",
    "A = A.transpose()\n",
    "print(A)\n",
    "Y2 = fix_lower(A, G.copy())\n",
    "Y = Y2 + Y1\n",
    "# print(A)"
   ]
  },
  {
   "cell_type": "code",
   "execution_count": 33,
   "metadata": {},
   "outputs": [
    {
     "data": {
      "text/plain": [
       "0"
      ]
     },
     "execution_count": 33,
     "metadata": {},
     "output_type": "execute_result"
    }
   ],
   "source": [
    "Ar = np.identity(len(A_init), dtype=int)\n",
    "for ctrl, tar in Y:\n",
    "    Ar[tar] = (Ar[tar] + Ar[ctrl])%2\n",
    "(Ar-A_init).sum()"
   ]
  }
 ],
 "metadata": {
  "kernelspec": {
   "display_name": "Python 3.10.5 64-bit (windows store)",
   "language": "python",
   "name": "python3"
  },
  "language_info": {
   "codemirror_mode": {
    "name": "ipython",
    "version": 3
   },
   "file_extension": ".py",
   "mimetype": "text/x-python",
   "name": "python",
   "nbconvert_exporter": "python",
   "pygments_lexer": "ipython3",
   "version": "3.10.5"
  },
  "orig_nbformat": 4,
  "vscode": {
   "interpreter": {
    "hash": "d1afd38e33051f7f0b6d1bfa4c297759d67c79cde33f4b25a646a40304c8f70c"
   }
  }
 },
 "nbformat": 4,
 "nbformat_minor": 2
}
